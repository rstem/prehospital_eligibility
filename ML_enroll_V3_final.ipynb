{
 "cells": [
  {
   "cell_type": "code",
   "execution_count": 60,
   "metadata": {},
   "outputs": [],
   "source": [
    "import pandas as pd\n",
    "import numpy as np\n",
    "from sklearn.model_selection import train_test_split\n",
    "from sklearn.feature_extraction.text import TfidfVectorizer\n",
    "\n",
    "filename = 'final_MLdata.csv'\n",
    "data = pd.read_csv(filename, header=0, delimiter=\",\")\n",
    "clean = data.dropna(subset=['narrative'])\n",
    "\n",
    "# v = TfidfVectorizer(decode_error='replace', encoding='utf-8')\n",
    "# x = v.fit_transform(clean.narrative)\n",
    "\n",
    "train, test = train_test_split(clean, test_size=0.2)"
   ]
  },
  {
   "cell_type": "code",
   "execution_count": 83,
   "metadata": {},
   "outputs": [
    {
     "data": {
      "text/plain": [
       "ineligible       858\n",
       "eligible          92\n",
       "indeterminate     17\n",
       "Name: final_category, dtype: int64"
      ]
     },
     "execution_count": 83,
     "metadata": {},
     "output_type": "execute_result"
    }
   ],
   "source": [
    "# Extracting features from text files\n",
    "from sklearn.feature_extraction.text import CountVectorizer\n",
    "count_vect = CountVectorizer()\n",
    "X_train_counts = count_vect.fit_transform(train.narrative)\n",
    "X_train_counts.shape\n",
    "\n",
    "train['final_category'].value_counts()"
   ]
  },
  {
   "cell_type": "code",
   "execution_count": 85,
   "metadata": {},
   "outputs": [
    {
     "data": {
      "text/plain": [
       "(967, 9045)"
      ]
     },
     "execution_count": 85,
     "metadata": {},
     "output_type": "execute_result"
    }
   ],
   "source": [
    "# TF-IDF\n",
    "from sklearn.feature_extraction.text import TfidfTransformer\n",
    "tfidf_transformer = TfidfTransformer()\n",
    "X_train_tfidf = tfidf_transformer.fit_transform(X_train_counts)\n",
    "X_train_tfidf.shape"
   ]
  },
  {
   "cell_type": "code",
   "execution_count": 86,
   "metadata": {},
   "outputs": [],
   "source": [
    "# Machine Learning\n",
    "# Training Naive Bayes (NB) classifier on training data.\n",
    "from sklearn.naive_bayes import MultinomialNB\n",
    "clf = MultinomialNB().fit(X_train_tfidf, train.final_category)"
   ]
  },
  {
   "cell_type": "code",
   "execution_count": 87,
   "metadata": {},
   "outputs": [],
   "source": [
    "# Building a pipeline: We can write less code and do all of the above, by building a pipeline as follows:\n",
    "# The names ‘vect’ , ‘tfidf’ and ‘clf’ are arbitrary but will be used later.\n",
    "# We will be using the 'text_clf' going forward.\n",
    "from sklearn.pipeline import Pipeline\n",
    "\n",
    "text_clf = Pipeline([('vect', CountVectorizer()), ('tfidf', TfidfTransformer()), ('clf', MultinomialNB())])\n",
    "\n",
    "text_clf = text_clf.fit(train.narrative, train.final_category)"
   ]
  },
  {
   "cell_type": "code",
   "execution_count": 95,
   "metadata": {},
   "outputs": [
    {
     "name": "stdout",
     "output_type": "stream",
     "text": [
      "\n",
      "Clasification report:\n",
      "                precision    recall  f1-score   support\n",
      "\n",
      "     eligible       0.00      0.00      0.00        13\n",
      "indeterminate       0.00      0.00      0.00         5\n",
      "   ineligible       0.93      1.00      0.96       224\n",
      "\n",
      "  avg / total       0.86      0.93      0.89       242\n",
      "\n",
      "\n",
      "Confussion matrix:\n",
      " [[  0   0  13]\n",
      " [  0   0   5]\n",
      " [  0   0 224]]\n"
     ]
    },
    {
     "name": "stderr",
     "output_type": "stream",
     "text": [
      "C:\\Users\\rstem15\\.atompackages\\lib\\site-packages\\sklearn\\metrics\\classification.py:1135: UndefinedMetricWarning: Precision and F-score are ill-defined and being set to 0.0 in labels with no predicted samples.\n",
      "  'precision', 'predicted', average, warn_for)\n"
     ]
    },
    {
     "data": {
      "text/plain": [
       "array([  0.        ,   0.        , 101.40458022])"
      ]
     },
     "execution_count": 95,
     "metadata": {},
     "output_type": "execute_result"
    }
   ],
   "source": [
    "# Performance of NB Classifier# Perfor \n",
    "import numpy as np\n",
    "from sklearn.utils import shuffle\n",
    "predicted = text_clf.predict(test.narrative)\n",
    "np.mean(predicted == test.final_category)\n",
    "\n",
    "from sklearn import metrics\n",
    "metrics.confusion_matrix(test.final_category, predicted)\n",
    "\n",
    "from sklearn.metrics import classification_report\n",
    "print ('\\nClasification report:\\n', classification_report(test.final_category, predicted))\n",
    "from sklearn.metrics import confusion_matrix\n",
    "print ('\\nConfussion matrix:\\n',confusion_matrix(test.final_category, predicted))\n",
    "\n",
    "\n"
   ]
  },
  {
   "cell_type": "code",
   "execution_count": 66,
   "metadata": {},
   "outputs": [
    {
     "name": "stdout",
     "output_type": "stream",
     "text": [
      "\n",
      "Clasification report:\n",
      "                precision    recall  f1-score   support\n",
      "\n",
      "     eligible       0.86      0.46      0.60        13\n",
      "indeterminate       0.00      0.00      0.00         5\n",
      "   ineligible       0.95      1.00      0.97       224\n",
      "\n",
      "  avg / total       0.92      0.95      0.93       242\n",
      "\n",
      "\n",
      "Confussion matrix:\n",
      " [[  6   0   7]\n",
      " [  0   0   5]\n",
      " [  1   0 223]]\n"
     ]
    },
    {
     "name": "stderr",
     "output_type": "stream",
     "text": [
      "C:\\Users\\rstem15\\.atompackages\\lib\\site-packages\\sklearn\\metrics\\classification.py:1135: UndefinedMetricWarning: Precision and F-score are ill-defined and being set to 0.0 in labels with no predicted samples.\n",
      "  'precision', 'predicted', average, warn_for)\n"
     ]
    }
   ],
   "source": [
    "# Training Support Vector Machines - SVM and calculating its performance\n",
    "import sklearn\n",
    "from sklearn.linear_model import SGDClassifier\n",
    "text_clf_svm = Pipeline([('vect', CountVectorizer()), ('tfidf', TfidfTransformer()),\n",
    "                         ('clf-svm', SGDClassifier(loss='hinge', penalty='l2',alpha=1e-3, max_iter=5, random_state=0))])\n",
    "\n",
    "text_clf_svm = text_clf_svm.fit(train.narrative, train.final_category)\n",
    "predicted_svm = text_clf_svm.predict(test.narrative)\n",
    "np.mean(predicted_svm == test.final_category)\n",
    "\n",
    "from sklearn import metrics\n",
    "confusion_matrix = metrics.confusion_matrix(test.final_category, predicted_svm)\n",
    "\n",
    "from sklearn.metrics import classification_report\n",
    "print ('\\nClasification report:\\n', classification_report(test.final_category, predicted_svm))\n",
    "from sklearn.metrics import confusion_matrix\n",
    "print ('\\nConfussion matrix:\\n',confusion_matrix(test.final_category, predicted_svm))\n"
   ]
  },
  {
   "cell_type": "code",
   "execution_count": 67,
   "metadata": {},
   "outputs": [],
   "source": [
    "# Grid Search\n",
    "# Here, we are creating a list of parameters for which we would like to do performance tuning. \n",
    "# All the parameters name start with the classifier name (remember the arbitrary name we gave). \n",
    "# E.g. vect__ngram_range; here we are telling to use unigram and bigrams and choose the one which is optimal.\n",
    "\n",
    "from sklearn.model_selection import GridSearchCV\n",
    "parameters = {'vect__ngram_range': [(1, 1), (1, 2)], 'tfidf__use_idf': (True, False), 'clf__alpha': (1e-2, 1e-3)}\n",
    "\n",
    "# Next, we create an instance of the grid search by passing the classifier, parameters # Next,  \n",
    "# and n_jobs=-1 which tells to use multiple cores from user machine.\n",
    "\n",
    "gs_clf = GridSearchCV(text_clf, parameters, n_jobs=-1)\n",
    "gs_clf = gs_clf.fit(train.narrative, train.final_category)"
   ]
  },
  {
   "cell_type": "code",
   "execution_count": 68,
   "metadata": {},
   "outputs": [
    {
     "data": {
      "text/plain": [
       "{'clf__alpha': 0.01, 'tfidf__use_idf': True, 'vect__ngram_range': (1, 2)}"
      ]
     },
     "execution_count": 68,
     "metadata": {},
     "output_type": "execute_result"
    }
   ],
   "source": [
    "# To see the best mean score and the params, run the following code# To see \n",
    "\n",
    "gs_clf.best_score_\n",
    "gs_clf.best_params_\n",
    "\n",
    "# Output for above should be: The accuracy has now increased to ~90.6% for the NB classifier (not so naive anymore! 😄)\n",
    "# and the corresponding parameters are {‘clf__alpha’: 0.01, ‘tfidf__use_idf’: True, ‘vect__ngram_range’: (1, 2)}."
   ]
  },
  {
   "cell_type": "code",
   "execution_count": 69,
   "metadata": {},
   "outputs": [],
   "source": [
    "# NLTK\n",
    "# Removing stop words\n",
    "from sklearn.pipeline import Pipeline\n",
    "text_clf = Pipeline([('vect', CountVectorizer(stop_words='english')), ('tfidf', TfidfTransformer()), \n",
    "                     ('clf', MultinomialNB())])"
   ]
  },
  {
   "cell_type": "code",
   "execution_count": 70,
   "metadata": {},
   "outputs": [
    {
     "name": "stdout",
     "output_type": "stream",
     "text": [
      "\n",
      "Clasification report:\n",
      "                precision    recall  f1-score   support\n",
      "\n",
      "     eligible       0.00      0.00      0.00        13\n",
      "indeterminate       0.00      0.00      0.00         5\n",
      "   ineligible       0.93      1.00      0.96       224\n",
      "\n",
      "  avg / total       0.86      0.93      0.89       242\n",
      "\n"
     ]
    },
    {
     "name": "stderr",
     "output_type": "stream",
     "text": [
      "C:\\Users\\rstem15\\.atompackages\\lib\\site-packages\\sklearn\\metrics\\classification.py:1135: UndefinedMetricWarning: Precision and F-score are ill-defined and being set to 0.0 in labels with no predicted samples.\n",
      "  'precision', 'predicted', average, warn_for)\n"
     ]
    }
   ],
   "source": [
    "# Stemming Code\n",
    "\n",
    "import nltk\n",
    "\n",
    "from nltk.stem.snowball import SnowballStemmer\n",
    "stemmer = SnowballStemmer(\"english\", ignore_stopwords=True)\n",
    "\n",
    "class StemmedCountVectorizer(CountVectorizer):\n",
    "    def build_analyzer(self):\n",
    "        analyzer = super(StemmedCountVectorizer, self).build_analyzer()\n",
    "        return lambda doc: ([stemmer.stem(w) for w in analyzer(doc)])\n",
    "    \n",
    "stemmed_count_vect = StemmedCountVectorizer(stop_words='english')\n",
    "\n",
    "text_mnb_stemmed = Pipeline([('vect', stemmed_count_vect), ('tfidf', TfidfTransformer()), \n",
    "                             ('mnb', MultinomialNB(fit_prior=False))])\n",
    "\n",
    "text_mnb_stemmed = text_mnb_stemmed.fit(train.narrative, train.final_category)\n",
    "\n",
    "predicted_mnb_stemmed = text_mnb_stemmed.predict(test.narrative)\n",
    "\n",
    "np.mean(predicted_mnb_stemmed == test.final_category)\n",
    "\n",
    "from sklearn import metrics\n",
    "metrics.confusion_matrix(test.final_category, predicted_mnb_stemmed)\n",
    "\n",
    "from sklearn.metrics import classification_report\n",
    "print ('\\nClasification report:\\n', classification_report(test.final_category, predicted_mnb_stemmed))"
   ]
  },
  {
   "cell_type": "code",
   "execution_count": 104,
   "metadata": {},
   "outputs": [
    {
     "name": "stdout",
     "output_type": "stream",
     "text": [
      "\n",
      "Clasification report:\n",
      "                precision    recall  f1-score   support\n",
      "\n",
      "     eligible       0.86      0.46      0.60        13\n",
      "indeterminate       0.00      0.00      0.00         5\n",
      "   ineligible       0.95      1.00      0.97       224\n",
      "\n",
      "  avg / total       0.92      0.95      0.93       242\n",
      "\n",
      "FP: [ 1  0 12]\n",
      "FN: [7 5 1]\n",
      "TP: [  6   0 223]\n",
      "TN: [228 237   6]\n",
      "sensitivity: [0.46153846 0.         0.99553571]\n",
      "specificity: [0.99563319 1.         0.33333333]\n",
      "PPV: [0.85714286        nan 0.94893617]\n",
      "NPV [0.97021277 0.97933884 0.85714286]\n",
      "false positive rate: [0.00436681 0.         0.66666667]\n",
      "False negative rate: [0.53846154 1.         0.00446429]\n",
      "false discovery rate: [0.14285714        nan 0.05106383]\n",
      "overall accuracy: [0.96694215 0.97933884 0.94628099]\n"
     ]
    },
    {
     "name": "stderr",
     "output_type": "stream",
     "text": [
      "C:\\Users\\rstem15\\.atompackages\\lib\\site-packages\\sklearn\\metrics\\classification.py:1135: UndefinedMetricWarning: Precision and F-score are ill-defined and being set to 0.0 in labels with no predicted samples.\n",
      "  'precision', 'predicted', average, warn_for)\n",
      "C:\\Users\\rstem15\\.atompackages\\lib\\site-packages\\ipykernel_launcher.py:33: RuntimeWarning: invalid value encountered in true_divide\n",
      "C:\\Users\\rstem15\\.atompackages\\lib\\site-packages\\ipykernel_launcher.py:45: RuntimeWarning: invalid value encountered in true_divide\n"
     ]
    }
   ],
   "source": [
    "# Training Support Vector Machines - SVM and calculating its performance\n",
    "import sklearn\n",
    "from sklearn.linear_model import SGDClassifier\n",
    "text_clf_svm = Pipeline([('vect', CountVectorizer()), ('tfidf', TfidfTransformer()),\n",
    "                         ('clf-svm', SGDClassifier(loss='hinge', penalty='l2',alpha=1e-3, max_iter=5, random_state=0))])\n",
    "\n",
    "text_clf_svm = text_clf_svm.fit(train.narrative, train.final_category)\n",
    "predicted_svm = text_clf_svm.predict(test.narrative)\n",
    "np.mean(predicted_svm == test.final_category)\n",
    "\n",
    "from sklearn import metrics\n",
    "confusion_matrix = metrics.confusion_matrix(test.final_category, predicted_svm)\n",
    "\n",
    "from sklearn.metrics import classification_report\n",
    "print ('\\nClasification report:\\n', classification_report(test.final_category, predicted_svm))\n",
    "\n",
    "FP = confusion_matrix.sum(axis=0) - np.diag(confusion_matrix)\n",
    "print('FP:',FP)\n",
    "FN = confusion_matrix.sum(axis=1) - np.diag(confusion_matrix)\n",
    "print('FN:',FN)\n",
    "TP = np.diag(confusion_matrix)\n",
    "print('TP:',TP)\n",
    "TN = confusion_matrix.sum() - (FP + FN + TP)\n",
    "print('TN:',TN)\n",
    "\n",
    "# Sensitivity, hit rate, recall, or true positive rate\n",
    "TPR = TP/(TP+FN)\n",
    "print('sensitivity:', TPR)\n",
    "# Specificity or true negative rate\n",
    "TNR = TN/(TN+FP) \n",
    "print('specificity:', TNR)\n",
    "# Precision or positive predictive value\n",
    "PPV = TP/(TP+FP)\n",
    "print('PPV:', PPV)\n",
    "# Negative predictive value\n",
    "NPV = TN/(TN+FN)\n",
    "print('NPV', NPV)\n",
    "# Fall out or false positive rate\n",
    "FPR = FP/(FP+TN)\n",
    "print('false positive rate:', FPR)\n",
    "# False negative rate\n",
    "FNR = FN/(TP+FN)\n",
    "print('False negative rate:', FNR)\n",
    "# False discovery rate\n",
    "FDR = FP/(TP+FP)\n",
    "print('false discovery rate:', FDR)\n",
    "\n",
    "# Overall accuracy\n",
    "ACC = (TP+TN)/(TP+FP+FN+TN)\n",
    "print('overall accuracy:', ACC)"
   ]
  },
  {
   "cell_type": "code",
   "execution_count": 114,
   "metadata": {},
   "outputs": [
    {
     "data": {
      "image/png": "[encoded data removed]",
      "text/plain": [
       "<Figure size 432x288 with 2 Axes>"
      ]
     },
     "metadata": {},
     "output_type": "display_data"
    },
    {
     "data": {
      "image/png": "[encoded data removed]",
      "text/plain": [
       "<Figure size 432x288 with 2 Axes>"
      ]
     },
     "metadata": {},
     "output_type": "display_data"
    }
   ],
   "source": [
    "import matplotlib.pyplot as plt \n",
    "import scikitplot as skplt \n",
    "skplt.metrics.plot_confusion_matrix(test.final_category, predicted_svm)\n",
    "plt.show()\n",
    "\n",
    "skplt.metrics.plot_confusion_matrix(test.final_category, predicted_svm, normalize=True)\n",
    "plt.show()"
   ]
  },
  {
   "cell_type": "code",
   "execution_count": 113,
   "metadata": {},
   "outputs": [
    {
     "name": "stdout",
     "output_type": "stream",
     "text": [
      "0.9256198347107438\n",
      "\n",
      "Clasification report:\n",
      "                precision    recall  f1-score   support\n",
      "\n",
      "     eligible       0.71      0.77      0.74        13\n",
      "indeterminate       0.00      0.00      0.00         5\n",
      "   ineligible       0.98      0.96      0.97       224\n",
      "\n",
      "  avg / total       0.94      0.93      0.93       242\n",
      "\n",
      "FP: [4 9 5]\n",
      "FN: [ 3  5 10]\n",
      "TP: [ 10   0 214]\n",
      "TN: [225 228  13]\n",
      "sensitivity: [0.76923077 0.         0.95535714]\n",
      "specificity: [0.98253275 0.96202532 0.72222222]\n",
      "PPV: [0.71428571 0.         0.97716895]\n",
      "NPV [0.98684211 0.97854077 0.56521739]\n",
      "false positive rate: [0.01746725 0.03797468 0.27777778]\n",
      "False negative rate: [0.23076923 1.         0.04464286]\n",
      "false discovery rate: [0.28571429 1.         0.02283105]\n",
      "overall accuracy: [0.97107438 0.94214876 0.93801653]\n"
     ]
    },
    {
     "data": {
      "image/png": "[encoded data removed]",
      "text/plain": [
       "<Figure size 432x288 with 2 Axes>"
      ]
     },
     "metadata": {},
     "output_type": "display_data"
    },
    {
     "data": {
      "image/png": "[encoded data removed]",
      "text/plain": [
       "<Figure size 432x288 with 2 Axes>"
      ]
     },
     "metadata": {},
     "output_type": "display_data"
    }
   ],
   "source": [
    "# GBT\n",
    "import sklearn\n",
    "from sklearn.ensemble import GradientBoostingClassifier\n",
    "\n",
    "logistic = Pipeline([('vect', CountVectorizer()), ('tfidf', TfidfTransformer()),\n",
    "                         ('clf-logistic', GradientBoostingClassifier(max_depth=1, n_estimators=100, learning_rate=1.0))])\n",
    "\n",
    "text_clf_logistic = logistic.fit(train.narrative, train.final_category)\n",
    "predicted_logistic = logistic.predict(test.narrative)\n",
    "print(np.mean(predicted_logistic == test.final_category))\n",
    "\n",
    "from sklearn import metrics\n",
    "confusion_matrix = metrics.confusion_matrix(test.final_category, predicted_logistic)\n",
    "\n",
    "from sklearn.metrics import classification_report\n",
    "print ('\\nClasification report:\\n', classification_report(test.final_category, predicted_logistic))\n",
    "\n",
    "FP = confusion_matrix.sum(axis=0) - np.diag(confusion_matrix)\n",
    "print('FP:',FP)\n",
    "FN = confusion_matrix.sum(axis=1) - np.diag(confusion_matrix)\n",
    "print('FN:',FN)\n",
    "TP = np.diag(confusion_matrix)\n",
    "print('TP:',TP)\n",
    "TN = confusion_matrix.sum() - (FP + FN + TP)\n",
    "print('TN:',TN)\n",
    "\n",
    "# Sensitivity, hit rate, recall, or true positive rate\n",
    "TPR = TP/(TP+FN)\n",
    "print('sensitivity:', TPR)\n",
    "# Specificity or true negative rate\n",
    "TNR = TN/(TN+FP) \n",
    "print('specificity:', TNR)\n",
    "# Precision or positive predictive value\n",
    "PPV = TP/(TP+FP)\n",
    "print('PPV:', PPV)\n",
    "# Negative predictive value\n",
    "NPV = TN/(TN+FN)\n",
    "print('NPV', NPV)\n",
    "# Fall out or false positive rate\n",
    "FPR = FP/(FP+TN)\n",
    "print('false positive rate:', FPR)\n",
    "# False negative rate\n",
    "FNR = FN/(TP+FN)\n",
    "print('False negative rate:', FNR)\n",
    "# False discovery rate\n",
    "FDR = FP/(TP+FP)\n",
    "print('false discovery rate:', FDR)\n",
    "\n",
    "# Overall accuracy\n",
    "ACC = (TP+TN)/(TP+FP+FN+TN)\n",
    "print('overall accuracy:', ACC)\n",
    "\n",
    "import matplotlib.pyplot as plt \n",
    "import scikitplot as skplt \n",
    "skplt.metrics.plot_confusion_matrix(test.final_category, predicted_logistic)\n",
    "plt.show()\n",
    "\n",
    "skplt.metrics.plot_confusion_matrix(test.final_category, predicted_logistic, normalize=True)\n",
    "plt.show()"
   ]
  },
  {
   "cell_type": "code",
   "execution_count": 112,
   "metadata": {},
   "outputs": [
    {
     "name": "stdout",
     "output_type": "stream",
     "text": [
      "0.9256198347107438\n",
      "\n",
      "Clasification report:\n",
      "                precision    recall  f1-score   support\n",
      "\n",
      "     eligible       0.00      0.00      0.00        13\n",
      "indeterminate       0.00      0.00      0.00         5\n",
      "   ineligible       0.93      1.00      0.96       224\n",
      "\n",
      "  avg / total       0.86      0.93      0.89       242\n",
      "\n",
      "FP: [ 0  0 18]\n",
      "FN: [13  5  0]\n",
      "TP: [  0   0 224]\n",
      "TN: [229 237   0]\n",
      "sensitivity: [0. 0. 1.]\n",
      "specificity: [1. 1. 0.]\n",
      "PPV: [       nan        nan 0.92561983]\n",
      "NPV [0.94628099 0.97933884        nan]\n",
      "false positive rate: [0. 0. 1.]\n",
      "False negative rate: [1. 1. 0.]\n",
      "false discovery rate: [       nan        nan 0.07438017]\n",
      "overall accuracy: [0.94628099 0.97933884 0.92561983]\n"
     ]
    },
    {
     "name": "stderr",
     "output_type": "stream",
     "text": [
      "C:\\Users\\rstem15\\.atompackages\\lib\\site-packages\\sklearn\\metrics\\classification.py:1135: UndefinedMetricWarning: Precision and F-score are ill-defined and being set to 0.0 in labels with no predicted samples.\n",
      "  'precision', 'predicted', average, warn_for)\n",
      "C:\\Users\\rstem15\\.atompackages\\lib\\site-packages\\ipykernel_launcher.py:34: RuntimeWarning: invalid value encountered in true_divide\n",
      "C:\\Users\\rstem15\\.atompackages\\lib\\site-packages\\ipykernel_launcher.py:37: RuntimeWarning: invalid value encountered in true_divide\n",
      "C:\\Users\\rstem15\\.atompackages\\lib\\site-packages\\ipykernel_launcher.py:46: RuntimeWarning: invalid value encountered in true_divide\n"
     ]
    },
    {
     "data": {
      "image/png": "[encoded data removed]",
      "text/plain": [
       "<Figure size 432x288 with 2 Axes>"
      ]
     },
     "metadata": {},
     "output_type": "display_data"
    },
    {
     "data": {
      "image/png": "[encoded data removed]",
      "text/plain": [
       "<Figure size 432x288 with 2 Axes>"
      ]
     },
     "metadata": {},
     "output_type": "display_data"
    }
   ],
   "source": [
    "# Random forest \n",
    "import sklearn\n",
    "from sklearn.ensemble import RandomForestClassifier\n",
    "\n",
    "text_clf_randomforest = Pipeline([('vect', CountVectorizer()), ('tfidf', TfidfTransformer()),\n",
    "                         ('clf-randomforest', RandomForestClassifier(bootstrap=True, max_depth=2, max_features='auto', n_estimators=100))])\n",
    "\n",
    "text_clf_randomforest = text_clf_randomforest.fit(train.narrative, train.final_category)\n",
    "predicted_randomforest = text_clf_randomforest.predict(test.narrative)\n",
    "print(np.mean(predicted_randomforest == test.final_category))\n",
    "\n",
    "from sklearn import metrics\n",
    "confusion_matrix = metrics.confusion_matrix(test.final_category, predicted_randomforest)\n",
    "\n",
    "from sklearn.metrics import classification_report\n",
    "print ('\\nClasification report:\\n', classification_report(test.final_category, predicted_randomforest))\n",
    "\n",
    "FP = confusion_matrix.sum(axis=0) - np.diag(confusion_matrix)\n",
    "print('FP:',FP)\n",
    "FN = confusion_matrix.sum(axis=1) - np.diag(confusion_matrix)\n",
    "print('FN:',FN)\n",
    "TP = np.diag(confusion_matrix)\n",
    "print('TP:',TP)\n",
    "TN = confusion_matrix.sum() - (FP + FN + TP)\n",
    "print('TN:',TN)\n",
    "\n",
    "# Sensitivity, hit rate, recall, or true positive rate\n",
    "TPR = TP/(TP+FN)\n",
    "print('sensitivity:', TPR)\n",
    "# Specificity or true negative rate\n",
    "TNR = TN/(TN+FP) \n",
    "print('specificity:', TNR)\n",
    "# Precision or positive predictive value\n",
    "PPV = TP/(TP+FP)\n",
    "print('PPV:', PPV)\n",
    "# Negative predictive value\n",
    "NPV = TN/(TN+FN)\n",
    "print('NPV', NPV)\n",
    "# Fall out or false positive rate\n",
    "FPR = FP/(FP+TN)\n",
    "print('false positive rate:', FPR)\n",
    "# False negative rate\n",
    "FNR = FN/(TP+FN)\n",
    "print('False negative rate:', FNR)\n",
    "# False discovery rate\n",
    "FDR = FP/(TP+FP)\n",
    "print('false discovery rate:', FDR)\n",
    "\n",
    "# Overall accuracy\n",
    "ACC = (TP+TN)/(TP+FP+FN+TN)\n",
    "print('overall accuracy:', ACC)\n",
    "\n",
    "import matplotlib.pyplot as plt \n",
    "import scikitplot as skplt \n",
    "skplt.metrics.plot_confusion_matrix(test.final_category, predicted_randomforest)\n",
    "plt.show()\n",
    "\n",
    "skplt.metrics.plot_confusion_matrix(test.final_category, predicted_randomforest, normalize=True)\n",
    "plt.show()"
   ]
  },
  {
   "cell_type": "code",
   "execution_count": 103,
   "metadata": {},
   "outputs": [
    {
     "name": "stdout",
     "output_type": "stream",
     "text": [
      "0.9421487603305785\n",
      "\n",
      "Clasification report:\n",
      "                precision    recall  f1-score   support\n",
      "\n",
      "     eligible       1.00      0.38      0.56        13\n",
      "indeterminate       0.00      0.00      0.00         5\n",
      "   ineligible       0.94      1.00      0.97       224\n",
      "\n",
      "  avg / total       0.93      0.94      0.93       242\n",
      "\n",
      "FP: [ 0  1 13]\n",
      "FN: [8 5 1]\n",
      "TP: [  5   0 223]\n",
      "TN: [229 236   5]\n",
      "sensitivity: [0.38461538 0.         0.99553571]\n",
      "specificity: [1.         0.99578059 0.27777778]\n",
      "PPV: [1.         0.         0.94491525]\n",
      "NPV [0.96624473 0.97925311 0.83333333]\n",
      "false positive rate: [0.         0.00421941 0.72222222]\n",
      "False negative rate: [0.61538462 1.         0.00446429]\n",
      "false discovery rate: [0.         1.         0.05508475]\n",
      "overall accuracy: [0.96694215 0.97520661 0.94214876]\n"
     ]
    }
   ],
   "source": [
    "# AdaBoost Classifier\n",
    "import sklearn\n",
    "from sklearn.ensemble import AdaBoostClassifier\n",
    "\n",
    "text_clf_randomforest = Pipeline([('vect', CountVectorizer()), ('tfidf', TfidfTransformer()),\n",
    "                         ('clf-randomforest', AdaBoostClassifier(base_estimator=None, n_estimators=100))])\n",
    "\n",
    "text_clf_randomforest = text_clf_randomforest.fit(train.narrative, train.final_category)\n",
    "predicted_adaboost= text_clf_randomforest.predict(test.narrative)\n",
    "print(np.mean(predicted_adaboost == test.final_category))\n",
    "\n",
    "from sklearn import metrics\n",
    "confusion_matrix = metrics.confusion_matrix(test.final_category, predicted_adaboost)\n",
    "\n",
    "from sklearn.metrics import classification_report\n",
    "print ('\\nClasification report:\\n', classification_report(test.final_category, predicted_adaboost))\n",
    "\n",
    "FP = confusion_matrix.sum(axis=0) - np.diag(confusion_matrix)\n",
    "print('FP:',FP)\n",
    "FN = confusion_matrix.sum(axis=1) - np.diag(confusion_matrix)\n",
    "print('FN:',FN)\n",
    "TP = np.diag(confusion_matrix)\n",
    "print('TP:',TP)\n",
    "TN = confusion_matrix.sum() - (FP + FN + TP)\n",
    "print('TN:',TN)\n",
    "\n",
    "# Sensitivity, hit rate, recall, or true positive rate\n",
    "TPR = TP/(TP+FN)\n",
    "print('sensitivity:', TPR)\n",
    "# Specificity or true negative rate\n",
    "TNR = TN/(TN+FP) \n",
    "print('specificity:', TNR)\n",
    "# Precision or positive predictive value\n",
    "PPV = TP/(TP+FP)\n",
    "print('PPV:', PPV)\n",
    "# Negative predictive value\n",
    "NPV = TN/(TN+FN)\n",
    "print('NPV', NPV)\n",
    "# Fall out or false positive rate\n",
    "FPR = FP/(FP+TN)\n",
    "print('false positive rate:', FPR)\n",
    "# False negative rate\n",
    "FNR = FN/(TP+FN)\n",
    "print('False negative rate:', FNR)\n",
    "# False discovery rate\n",
    "FDR = FP/(TP+FP)\n",
    "print('false discovery rate:', FDR)\n",
    "\n",
    "# Overall accuracy\n",
    "ACC = (TP+TN)/(TP+FP+FN+TN)\n",
    "print('overall accuracy:', ACC)"
   ]
  },
  {
   "cell_type": "code",
   "execution_count": 111,
   "metadata": {},
   "outputs": [
    {
     "data": {
      "image/png": "[encoded data removed]",
      "text/plain": [
       "<Figure size 432x288 with 2 Axes>"
      ]
     },
     "metadata": {},
     "output_type": "display_data"
    },
    {
     "data": {
      "image/png": "[encoded data removed]",
      "text/plain": [
       "<Figure size 432x288 with 2 Axes>"
      ]
     },
     "metadata": {},
     "output_type": "display_data"
    }
   ],
   "source": [
    "import matplotlib.pyplot as plt \n",
    "import scikitplot as skplt \n",
    "skplt.metrics.plot_confusion_matrix(test.final_category, predicted_adaboost)\n",
    "plt.show()\n",
    "\n",
    "skplt.metrics.plot_confusion_matrix(test.final_category, predicted_adaboost, normalize=True)\n",
    "plt.show()"
   ]
  },
  {
   "cell_type": "code",
   "execution_count": 107,
   "metadata": {},
   "outputs": [
    {
     "data": {
      "text/plain": [
       "ineligible       224\n",
       "eligible          13\n",
       "indeterminate      5\n",
       "Name: final_category, dtype: int64"
      ]
     },
     "execution_count": 107,
     "metadata": {},
     "output_type": "execute_result"
    }
   ],
   "source": [
    "test['final_category'].value_counts()"
   ]
  },
  {
   "cell_type": "code",
   "execution_count": null,
   "metadata": {},
   "outputs": [],
   "source": []
  }
 ],
 "metadata": {
  "kernelspec": {
   "display_name": "Python 3",
   "language": "python",
   "name": "python3"
  },
  "language_info": {
   "codemirror_mode": {
    "name": "ipython",
    "version": 3
   },
   "file_extension": ".py",
   "mimetype": "text/x-python",
   "name": "python",
   "nbconvert_exporter": "python",
   "pygments_lexer": "ipython3",
   "version": "3.6.6"
  }
 },
 "nbformat": 4,
 "nbformat_minor": 2
}
